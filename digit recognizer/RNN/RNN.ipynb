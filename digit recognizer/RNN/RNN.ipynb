{
 "cells": [
  {
   "cell_type": "code",
   "execution_count": 16,
   "metadata": {},
   "outputs": [],
   "source": [
    "import numpy as np\n",
    "import pandas as pd\n",
    "import matplotlib.pyplot as plt\n",
    "\n",
    "import os\n",
    "\n",
    "import torch\n",
    "import torch.nn as nn\n",
    "import torch.nn.functional as F\n",
    "from sklearn.model_selection import train_test_split\n",
    "from torch.utils.data import DataLoader, TensorDataset \n",
    "from torchvision.utils import make_grid"
   ]
  },
  {
   "cell_type": "code",
   "execution_count": 2,
   "metadata": {},
   "outputs": [],
   "source": [
    "train = pd.read_csv('../data/train.csv')\n",
    "\n",
    "x_train = (train.iloc[:, 1:].values).astype('float32')/255.0\n",
    "y_train = train['label'].values\n",
    "\n",
    "x_train, x_test, y_train, y_test = train_test_split(x_train, y_train, stratify=y_train, random_state=42, test_size=0.2)\n"
   ]
  },
  {
   "cell_type": "code",
   "execution_count": 3,
   "metadata": {},
   "outputs": [],
   "source": [
    "x_train = torch.from_numpy(x_train)\n",
    "x_test = torch.from_numpy(x_test)\n",
    "\n",
    "y_train = torch.from_numpy(y_train)\n",
    "y_test = torch.from_numpy(y_test)"
   ]
  },
  {
   "cell_type": "code",
   "execution_count": 4,
   "metadata": {},
   "outputs": [
    {
     "data": {
      "image/png": "[encoded data removed]",
      "text/plain": [
       "<Figure size 640x480 with 1 Axes>"
      ]
     },
     "metadata": {},
     "output_type": "display_data"
    }
   ],
   "source": [
    "plt.imshow(x_train[3].reshape(28,28), cmap='gray')\n",
    "plt.axis('off')\n",
    "plt.title('Label: %d' % y_train[3])\n",
    "plt.show()"
   ]
  },
  {
   "cell_type": "code",
   "execution_count": 5,
   "metadata": {},
   "outputs": [],
   "source": [
    "train_tensor = TensorDataset(x_train, y_train)\n",
    "test_tensor = TensorDataset(x_test, y_test)\n",
    "\n",
    "train_loader = DataLoader(train_tensor, batch_size=50, shuffle=True)\n",
    "test_loader = DataLoader(test_tensor, batch_size=50, shuffle=False)"
   ]
  },
  {
   "cell_type": "code",
   "execution_count": 6,
   "metadata": {},
   "outputs": [
    {
     "name": "stdout",
     "output_type": "stream",
     "text": [
      "torch.Size([784])\n"
     ]
    },
    {
     "data": {
      "image/png": "[encoded data removed]",
      "text/plain": [
       "<Figure size 640x480 with 1 Axes>"
      ]
     },
     "metadata": {},
     "output_type": "display_data"
    }
   ],
   "source": [
    "for batch_idx,(data,target) in enumerate(train_loader):\n",
    "    img_grid = make_grid(data[0:8,].reshape(8,1,28,28),nrow=8)\n",
    "    img_target_grid = target[0:8,].numpy()\n",
    "    break\n",
    "print(data[0].shape)\n",
    "plt.imshow(img_grid.numpy().transpose((1,2,0)))\n",
    "plt.rcParams['figure.figsize']=(10,2)\n",
    "plt.title(img_target_grid,size=16)\n",
    "plt.show()"
   ]
  },
  {
   "cell_type": "code",
   "execution_count": 7,
   "metadata": {},
   "outputs": [
    {
     "name": "stdout",
     "output_type": "stream",
     "text": [
      "cuda\n"
     ]
    }
   ],
   "source": [
    "if torch.cuda.is_available():\n",
    "    device = torch.device(\"cuda\")\n",
    "else:\n",
    "    device = torch.device(\"cpu\")\n",
    "print(device)"
   ]
  },
  {
   "cell_type": "code",
   "execution_count": 8,
   "metadata": {},
   "outputs": [],
   "source": [
    "class RNNModel(nn.Module):\n",
    "    def __init__(self, input_size, hidden_size, layer_dim, output_size):\n",
    "        super(RNNModel, self).__init__()\n",
    "        self.hidden_size = hidden_size\n",
    "        self.layer_dim = layer_dim\n",
    "        self.rnn = nn.RNN(input_size, hidden_size, layer_dim,batch_first=True)\n",
    "        self.fc = nn.Linear(hidden_size, output_size)\n",
    "\n",
    "    def forward(self, x):\n",
    "        h0 = torch.zeros(self.layer_dim, x.size(0), self.hidden_size,device=x.device)\n",
    "        out, hn = self.rnn(x,h0)\n",
    "        out = self.fc(out[:, -1, :])\n",
    "        return out"
   ]
  },
  {
   "cell_type": "code",
   "execution_count": 9,
   "metadata": {},
   "outputs": [],
   "source": [
    "input_size = 28\n",
    "seq_size = 28\n",
    "hidden_size = 128\n",
    "num_layers = 2\n",
    "output_size = 10\n",
    "\n",
    "model =  RNNModel(input_size, hidden_size, num_layers, output_size)\n",
    "criterion = nn.CrossEntropyLoss()\n",
    "\n",
    "lr = 0.05\n",
    "optimizer = torch.optim.SGD(model.parameters(), lr=lr)"
   ]
  },
  {
   "cell_type": "code",
   "execution_count": 10,
   "metadata": {},
   "outputs": [
    {
     "data": {
      "text/plain": [
       "RNNModel(\n",
       "  (rnn): RNN(28, 128, num_layers=2, batch_first=True)\n",
       "  (fc): Linear(in_features=128, out_features=10, bias=True)\n",
       ")"
      ]
     },
     "execution_count": 10,
     "metadata": {},
     "output_type": "execute_result"
    }
   ],
   "source": [
    "model"
   ]
  },
  {
   "cell_type": "code",
   "execution_count": 11,
   "metadata": {},
   "outputs": [
    {
     "data": {
      "text/plain": [
       "CrossEntropyLoss()"
      ]
     },
     "execution_count": 11,
     "metadata": {},
     "output_type": "execute_result"
    }
   ],
   "source": [
    "model.to(device)\n",
    "criterion.to(device)"
   ]
  },
  {
   "cell_type": "code",
   "execution_count": 25,
   "metadata": {},
   "outputs": [],
   "source": [
    "def train_model(num_epoch):\n",
    "    model.train()\n",
    "    for batch_idx ,(data, target) in enumerate(train_loader):\n",
    "        data = data.to(device)\n",
    "        data = data.view(-1,seq_size,input_size)\n",
    "        target = target.to(device)\n",
    "\n",
    "        optimizer.zero_grad()\n",
    "        output = model(data)\n",
    "        loss = criterion(output, target)\n",
    "        loss.backward()\n",
    "        optimizer.step()\n",
    "\n",
    "        if batch_idx % 100 == 0:\n",
    "            print('Train Epoch: {} [{}/{}]\\tLoss: {:.6f}'.format(\n",
    "                num_epoch, (batch_idx+1)*len(data), len(train_loader.dataset)\n",
    "                ,loss.item()\n",
    "            ))\n",
    "\n",
    "def eval_model(data_loader):\n",
    "    model.eval()\n",
    "    loss = 0\n",
    "    correct = 0\n",
    "\n",
    "    with torch.no_grad():\n",
    "        for data, target in data_loader:\n",
    "            data = data.to(device)\n",
    "            data = data.view(-1,seq_size,input_size)\n",
    "            target = target.to(device)\n",
    "\n",
    "            output = model(data)\n",
    "            loss += F.nll_loss(output, target, reduction='sum').item()\n",
    "            pred = output.data.max(1, keepdim=True)[1]\n",
    "            correct += pred.eq(target.data.view_as(pred)).sum().item()\n",
    "\n",
    "    loss /= len(data_loader.dataset)\n",
    "    acc = 100. * correct / len(data_loader.dataset)\n",
    "    print('Test set: Average loss: {:.4f}, Accuracy: {}/{} ({:.0f}%)\\n'.format(\n",
    "        loss, correct, len(data_loader.dataset),\n",
    "        100. * correct / len(data_loader.dataset)\n",
    "    ))\n"
   ]
  },
  {
   "cell_type": "code",
   "execution_count": 26,
   "metadata": {},
   "outputs": [
    {
     "name": "stdout",
     "output_type": "stream",
     "text": [
      "Train Epoch: 0 [50/33600]\tLoss: 0.011854\n",
      "Train Epoch: 0 [5050/33600]\tLoss: 0.072128\n",
      "Train Epoch: 0 [10050/33600]\tLoss: 0.007192\n",
      "Train Epoch: 0 [15050/33600]\tLoss: 0.152281\n",
      "Train Epoch: 0 [20050/33600]\tLoss: 0.027442\n",
      "Train Epoch: 0 [25050/33600]\tLoss: 0.103724\n",
      "Train Epoch: 0 [30050/33600]\tLoss: 0.023375\n",
      "Test set: Average loss: -9.9582, Accuracy: 8213/8400 (98%)\n",
      "\n",
      "Train Epoch: 1 [50/33600]\tLoss: 0.015840\n",
      "Train Epoch: 1 [5050/33600]\tLoss: 0.010601\n",
      "Train Epoch: 1 [10050/33600]\tLoss: 0.002021\n",
      "Train Epoch: 1 [15050/33600]\tLoss: 0.007505\n",
      "Train Epoch: 1 [20050/33600]\tLoss: 0.062821\n",
      "Train Epoch: 1 [25050/33600]\tLoss: 0.053517\n",
      "Train Epoch: 1 [30050/33600]\tLoss: 0.014697\n",
      "Test set: Average loss: -9.9827, Accuracy: 8225/8400 (98%)\n",
      "\n",
      "Train Epoch: 2 [50/33600]\tLoss: 0.003235\n",
      "Train Epoch: 2 [5050/33600]\tLoss: 0.001896\n",
      "Train Epoch: 2 [10050/33600]\tLoss: 0.132419\n",
      "Train Epoch: 2 [15050/33600]\tLoss: 0.015476\n",
      "Train Epoch: 2 [20050/33600]\tLoss: 0.070830\n",
      "Train Epoch: 2 [25050/33600]\tLoss: 0.109053\n",
      "Train Epoch: 2 [30050/33600]\tLoss: 0.110253\n",
      "Test set: Average loss: -9.8294, Accuracy: 8200/8400 (98%)\n",
      "\n",
      "Train Epoch: 3 [50/33600]\tLoss: 0.008419\n",
      "Train Epoch: 3 [5050/33600]\tLoss: 0.013735\n",
      "Train Epoch: 3 [10050/33600]\tLoss: 0.117253\n",
      "Train Epoch: 3 [15050/33600]\tLoss: 0.002171\n",
      "Train Epoch: 3 [20050/33600]\tLoss: 0.138691\n",
      "Train Epoch: 3 [25050/33600]\tLoss: 0.102619\n",
      "Train Epoch: 3 [30050/33600]\tLoss: 0.004220\n",
      "Test set: Average loss: -9.3597, Accuracy: 8045/8400 (96%)\n",
      "\n",
      "Train Epoch: 4 [50/33600]\tLoss: 0.163114\n",
      "Train Epoch: 4 [5050/33600]\tLoss: 0.013826\n",
      "Train Epoch: 4 [10050/33600]\tLoss: 0.052523\n",
      "Train Epoch: 4 [15050/33600]\tLoss: 0.074629\n",
      "Train Epoch: 4 [20050/33600]\tLoss: 0.017775\n",
      "Train Epoch: 4 [25050/33600]\tLoss: 0.219437\n",
      "Train Epoch: 4 [30050/33600]\tLoss: 0.083591\n",
      "Test set: Average loss: -9.7807, Accuracy: 8137/8400 (97%)\n",
      "\n",
      "Train Epoch: 5 [50/33600]\tLoss: 0.071358\n",
      "Train Epoch: 5 [5050/33600]\tLoss: 0.004760\n",
      "Train Epoch: 5 [10050/33600]\tLoss: 0.067743\n",
      "Train Epoch: 5 [15050/33600]\tLoss: 0.095468\n",
      "Train Epoch: 5 [20050/33600]\tLoss: 0.004380\n",
      "Train Epoch: 5 [25050/33600]\tLoss: 0.059791\n",
      "Train Epoch: 5 [30050/33600]\tLoss: 0.009481\n",
      "Test set: Average loss: -10.2639, Accuracy: 8244/8400 (98%)\n",
      "\n",
      "Train Epoch: 6 [50/33600]\tLoss: 0.005567\n",
      "Train Epoch: 6 [5050/33600]\tLoss: 0.019379\n",
      "Train Epoch: 6 [10050/33600]\tLoss: 0.234104\n",
      "Train Epoch: 6 [15050/33600]\tLoss: 0.010292\n",
      "Train Epoch: 6 [20050/33600]\tLoss: 0.026172\n",
      "Train Epoch: 6 [25050/33600]\tLoss: 0.073300\n",
      "Train Epoch: 6 [30050/33600]\tLoss: 0.009067\n",
      "Test set: Average loss: -10.1121, Accuracy: 8222/8400 (98%)\n",
      "\n",
      "Train Epoch: 7 [50/33600]\tLoss: 0.086221\n",
      "Train Epoch: 7 [5050/33600]\tLoss: 0.081799\n",
      "Train Epoch: 7 [10050/33600]\tLoss: 0.010866\n",
      "Train Epoch: 7 [15050/33600]\tLoss: 0.002627\n",
      "Train Epoch: 7 [20050/33600]\tLoss: 0.002398\n",
      "Train Epoch: 7 [25050/33600]\tLoss: 0.049469\n",
      "Train Epoch: 7 [30050/33600]\tLoss: 0.114657\n",
      "Test set: Average loss: -10.3523, Accuracy: 8232/8400 (98%)\n",
      "\n",
      "Train Epoch: 8 [50/33600]\tLoss: 0.013836\n",
      "Train Epoch: 8 [5050/33600]\tLoss: 0.005091\n",
      "Train Epoch: 8 [10050/33600]\tLoss: 0.056612\n",
      "Train Epoch: 8 [15050/33600]\tLoss: 0.053050\n",
      "Train Epoch: 8 [20050/33600]\tLoss: 0.034927\n",
      "Train Epoch: 8 [25050/33600]\tLoss: 0.003286\n",
      "Train Epoch: 8 [30050/33600]\tLoss: 0.013682\n",
      "Test set: Average loss: -10.0002, Accuracy: 8176/8400 (97%)\n",
      "\n",
      "Train Epoch: 9 [50/33600]\tLoss: 0.004381\n",
      "Train Epoch: 9 [5050/33600]\tLoss: 0.003357\n",
      "Train Epoch: 9 [10050/33600]\tLoss: 0.100036\n",
      "Train Epoch: 9 [15050/33600]\tLoss: 0.003888\n",
      "Train Epoch: 9 [20050/33600]\tLoss: 0.034584\n",
      "Train Epoch: 9 [25050/33600]\tLoss: 0.020884\n",
      "Train Epoch: 9 [30050/33600]\tLoss: 0.134513\n",
      "Test set: Average loss: -10.4735, Accuracy: 8214/8400 (98%)\n",
      "\n"
     ]
    }
   ],
   "source": [
    "num_epochs = 10\n",
    "\n",
    "\n",
    "for n in range(num_epochs):\n",
    "    train_model(n)\n",
    "    eval_model(test_loader)"
   ]
  },
  {
   "cell_type": "code",
   "execution_count": null,
   "metadata": {},
   "outputs": [],
   "source": []
  }
 ],
 "metadata": {
  "kernelspec": {
   "display_name": "dl",
   "language": "python",
   "name": "python3"
  },
  "language_info": {
   "codemirror_mode": {
    "name": "ipython",
    "version": 3
   },
   "file_extension": ".py",
   "mimetype": "text/x-python",
   "name": "python",
   "nbconvert_exporter": "python",
   "pygments_lexer": "ipython3",
   "version": "3.10.18"
  }
 },
 "nbformat": 4,
 "nbformat_minor": 2
}
