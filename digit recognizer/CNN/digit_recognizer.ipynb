{
 "cells": [
  {
   "cell_type": "markdown",
   "metadata": {},
   "source": [
    "## 手写数字识别\n",
    "### 1. 导入模块"
   ]
  },
  {
   "cell_type": "code",
   "execution_count": 2,
   "metadata": {},
   "outputs": [],
   "source": [
    "#pytorch utility imports\n",
    "import torch\n",
    "import torchvision\n",
    "import torchvision.transforms as transforms\n",
    "from torch.utils.data import DataLoader, TensorDataset\n",
    "from torchvision.utils import make_grid\n",
    "\n",
    "#neural net imports\n",
    "import torch.nn as nn\n",
    "import torch.nn.functional as F\n",
    "import torch.optim as optim\n",
    "from torch.autograd import Variable"
   ]
  },
  {
   "cell_type": "code",
   "execution_count": 3,
   "metadata": {},
   "outputs": [],
   "source": [
    "#import external libraries\n",
    "import pandas as pd\n",
    "import numpy as np\n",
    "import matplotlib.pyplot as plt\n",
    "from sklearn.model_selection import train_test_split\n",
    "import os\n",
    "import math\n",
    "%matplotlib inline"
   ]
  },
  {
   "cell_type": "code",
   "execution_count": 4,
   "metadata": {},
   "outputs": [
    {
     "name": "stdout",
     "output_type": "stream",
     "text": [
      "True\n",
      "True\n",
      "cuda\n"
     ]
    }
   ],
   "source": [
    "print(torch.cuda.is_available())\n",
    "print(torch.backends.cudnn.enabled)\n",
    "\n",
    "if torch.cuda.is_available():\n",
    "    device = torch.device('cuda')\n",
    "print(device)"
   ]
  },
  {
   "cell_type": "markdown",
   "metadata": {},
   "source": [
    "### 2. 导入数据和处理数据"
   ]
  },
  {
   "cell_type": "code",
   "execution_count": 5,
   "metadata": {},
   "outputs": [],
   "source": [
    "train_df = pd.read_csv(\"digit-recognizer/train.csv\")\n",
    "test_df = pd.read_csv(\"digit-recognizer/test.csv\")"
   ]
  },
  {
   "cell_type": "code",
   "execution_count": 6,
   "metadata": {},
   "outputs": [
    {
     "data": {
      "text/plain": [
       "(784,)"
      ]
     },
     "execution_count": 6,
     "metadata": {},
     "output_type": "execute_result"
    }
   ],
   "source": [
    "train_df.iloc[:,1:].values.astype('float32')[0].shape"
   ]
  },
  {
   "cell_type": "code",
   "execution_count": 7,
   "metadata": {},
   "outputs": [],
   "source": [
    "train_labels = train_df['label'].values\n",
    "train_images = (train_df.iloc[:,1:].values).astype('float32')\n",
    "test_images = (test_df.iloc[:,:].values).astype('float32')\n",
    "\n",
    "# 划分数据集和验证集\n",
    "train_images, val_images, train_labels, val_labels = train_test_split(train_images, train_labels, \n",
    "                                                                     stratify=train_labels, random_state=42,\n",
    "                                                                     test_size=0.2\n",
    "                                                                     )"
   ]
  },
  {
   "cell_type": "code",
   "execution_count": 8,
   "metadata": {},
   "outputs": [],
   "source": [
    "train_images = train_images.reshape((train_images.shape[0], 28, 28))\n",
    "val_images = val_images.reshape((val_images.shape[0], 28, 28))\n",
    "test_images = test_images.reshape((test_images.shape[0], 28, 28))\n"
   ]
  },
  {
   "cell_type": "code",
   "execution_count": 9,
   "metadata": {},
   "outputs": [
    {
     "name": "stdout",
     "output_type": "stream",
     "text": [
      "(33600, 28, 28)\n"
     ]
    },
    {
     "data": {
      "text/plain": [
       "<matplotlib.image.AxesImage at 0x1e5d8605600>"
      ]
     },
     "execution_count": 9,
     "metadata": {},
     "output_type": "execute_result"
    },
    {
     "data": {
      "image/png": "[encoded data removed]",
      "text/plain": [
       "<Figure size 640x480 with 1 Axes>"
      ]
     },
     "metadata": {},
     "output_type": "display_data"
    }
   ],
   "source": [
    "print(train_images.shape)\n",
    "\n",
    "plt.imshow(train_images[10],cmap=plt.cm.binary)"
   ]
  },
  {
   "cell_type": "code",
   "execution_count": 13,
   "metadata": {},
   "outputs": [
    {
     "data": {
      "image/png": "[encoded data removed]",
      "text/plain": [
       "<Figure size 640x480 with 6 Axes>"
      ]
     },
     "metadata": {},
     "output_type": "display_data"
    }
   ],
   "source": [
    "for i in range(6):\n",
    "    plt.subplot(330+(i+1))\n",
    "    plt.imshow(train_images[i].squeeze(),cmap=plt.get_cmap('gray'))\n",
    "    plt.title(train_labels[i])"
   ]
  },
  {
   "cell_type": "code",
   "execution_count": 14,
   "metadata": {},
   "outputs": [
    {
     "data": {
      "image/png": "[encoded data removed]",
      "text/plain": [
       "<Figure size 640x480 with 3 Axes>"
      ]
     },
     "metadata": {},
     "output_type": "display_data"
    }
   ],
   "source": [
    "for i in range(6,9):\n",
    "    plt.subplot(330+(i+1))\n",
    "    plt.imshow(test_images[i].squeeze(), cmap=plt.get_cmap('gray'))"
   ]
  },
  {
   "cell_type": "code",
   "execution_count": 16,
   "metadata": {},
   "outputs": [],
   "source": [
    "# 归一化 0.0~1.0\n",
    "train_images_tensor = torch.tensor(train_images)/255.0\n",
    "train_labels_tensor = torch.tensor(train_labels)\n",
    "train_tensor = TensorDataset(train_images_tensor, train_labels_tensor)\n",
    "\n",
    "val_images_tensor = torch.tensor(val_images)/255.0\n",
    "val_labels_tensor = torch.tensor(val_labels)\n",
    "val_tensor = TensorDataset(val_images_tensor, val_labels_tensor)\n",
    "\n",
    "test_images_tensor = torch.tensor(test_images)/255.0"
   ]
  },
  {
   "cell_type": "code",
   "execution_count": 19,
   "metadata": {},
   "outputs": [],
   "source": [
    "train_loader = DataLoader(train_tensor,batch_size=16,num_workers=2,shuffle=True)\n",
    "val_loader = DataLoader(val_tensor,batch_size=16,num_workers=2,shuffle=True)\n",
    "test_loader = DataLoader(test_images_tensor,batch_size=16,num_workers=2,shuffle=True)"
   ]
  },
  {
   "cell_type": "code",
   "execution_count": 21,
   "metadata": {},
   "outputs": [
    {
     "data": {
      "image/png": "[encoded data removed]",
      "text/plain": [
       "<Figure size 640x480 with 1 Axes>"
      ]
     },
     "metadata": {},
     "output_type": "display_data"
    }
   ],
   "source": [
    "# 查看train_loader里的数据\n",
    "for batch_idx, (data, target) in enumerate(train_loader):\n",
    "    img_grid = make_grid(data[0:8,].unsqueeze(1),nrow=8)\n",
    "    img_traget_labels = target[0:8,].numpy()\n",
    "    break\n",
    "\n",
    "plt.imshow(img_grid.numpy().transpose((1,2,0)))\n",
    "plt.rcParams['figure.figsize']=(10,2)\n",
    "plt.title(img_traget_labels,size=16)\n",
    "plt.show()"
   ]
  },
  {
   "cell_type": "markdown",
   "metadata": {},
   "source": [
    "### 3. 构建CNN模型"
   ]
  },
  {
   "cell_type": "code",
   "execution_count": 22,
   "metadata": {},
   "outputs": [],
   "source": [
    "class Net(nn.Module):\n",
    "    def __init__(self):\n",
    "        super(Net,self).__init__()\n",
    "\n",
    "        self.conv_block = nn.Sequential(\n",
    "            nn.Conv2d(1,32,kernel_size=3,stride=1,padding=1),\n",
    "            nn.BatchNorm2d(32),\n",
    "            nn.ReLU(inplace=True),\n",
    "            nn.Conv2d(32,64,kernel_size=3,stride=1,padding=1),\n",
    "            nn.BatchNorm2d(64),\n",
    "            nn.ReLU(inplace=True),\n",
    "            nn.MaxPool2d(kernel_size=2,stride=2),\n",
    "            nn.Conv2d(64,128,kernel_size=3,stride=1,padding=1),\n",
    "            nn.BatchNorm2d(128),\n",
    "            nn.ReLU(inplace=True),\n",
    "            nn.MaxPool2d(kernel_size=2,stride=2),\n",
    "        )\n",
    "\n",
    "        self.liner_block=nn.Sequential(\n",
    "            nn.Dropout(0.5),\n",
    "            nn.Linear(128*7*7,128),\n",
    "            nn.BatchNorm1d(128),\n",
    "            nn.ReLU(inplace=True),\n",
    "            nn.Linear(128,64),\n",
    "            nn.BatchNorm1d(64),\n",
    "            nn.ReLU(inplace=True),\n",
    "            nn.Dropout(0.5),\n",
    "            nn.Linear(64,10)\n",
    "        )\n",
    "\n",
    "    def forward(self,x):\n",
    "        x=self.conv_block(x)\n",
    "        x=x.view(x.size(0),-1)\n",
    "        x=self.liner_block(x)\n",
    "        return x\n"
   ]
  },
  {
   "cell_type": "code",
   "execution_count": 23,
   "metadata": {},
   "outputs": [
    {
     "data": {
      "text/plain": [
       "Net(\n",
       "  (conv_block): Sequential(\n",
       "    (0): Conv2d(1, 32, kernel_size=(3, 3), stride=(1, 1), padding=(1, 1))\n",
       "    (1): BatchNorm2d(32, eps=1e-05, momentum=0.1, affine=True, track_running_stats=True)\n",
       "    (2): ReLU(inplace=True)\n",
       "    (3): Conv2d(32, 64, kernel_size=(3, 3), stride=(1, 1), padding=(1, 1))\n",
       "    (4): BatchNorm2d(64, eps=1e-05, momentum=0.1, affine=True, track_running_stats=True)\n",
       "    (5): ReLU(inplace=True)\n",
       "    (6): MaxPool2d(kernel_size=2, stride=2, padding=0, dilation=1, ceil_mode=False)\n",
       "    (7): Conv2d(64, 128, kernel_size=(3, 3), stride=(1, 1), padding=(1, 1))\n",
       "    (8): BatchNorm2d(128, eps=1e-05, momentum=0.1, affine=True, track_running_stats=True)\n",
       "    (9): ReLU(inplace=True)\n",
       "    (10): MaxPool2d(kernel_size=2, stride=2, padding=0, dilation=1, ceil_mode=False)\n",
       "  )\n",
       "  (liner_block): Sequential(\n",
       "    (0): Dropout(p=0.5, inplace=False)\n",
       "    (1): Linear(in_features=6272, out_features=128, bias=True)\n",
       "    (2): BatchNorm1d(128, eps=1e-05, momentum=0.1, affine=True, track_running_stats=True)\n",
       "    (3): ReLU(inplace=True)\n",
       "    (4): Linear(in_features=128, out_features=64, bias=True)\n",
       "    (5): BatchNorm1d(64, eps=1e-05, momentum=0.1, affine=True, track_running_stats=True)\n",
       "    (6): ReLU(inplace=True)\n",
       "    (7): Dropout(p=0.5, inplace=False)\n",
       "    (8): Linear(in_features=64, out_features=10, bias=True)\n",
       "  )\n",
       ")"
      ]
     },
     "execution_count": 23,
     "metadata": {},
     "output_type": "execute_result"
    }
   ],
   "source": [
    "conv_model = Net()\n",
    "conv_model"
   ]
  },
  {
   "cell_type": "markdown",
   "metadata": {},
   "source": [
    "### 4. 优化器设置"
   ]
  },
  {
   "cell_type": "code",
   "execution_count": 28,
   "metadata": {},
   "outputs": [],
   "source": [
    "optimizer = optim.Adam(params=conv_model.parameters(), lr=0.003)\n",
    "criterion = nn.CrossEntropyLoss()\n",
    "\n",
    "exp_lr_scheduler = optim.lr_scheduler.StepLR(optimizer, step_size=7, gamma=0.1)\n",
    "\n",
    "if torch.cuda.is_available():\n",
    "    conv_model = conv_model.cuda()\n",
    "    criterion = criterion.cuda()"
   ]
  },
  {
   "cell_type": "code",
   "execution_count": 39,
   "metadata": {},
   "outputs": [],
   "source": [
    "def train_model(num_epoch):\n",
    "    conv_model.train()\n",
    "    exp_lr_scheduler.step()\n",
    "\n",
    "    for batch_idx,(data, target) in enumerate(train_loader):\n",
    "        data=data.unsqueeze(1)\n",
    "        data, target = data, target\n",
    "        \n",
    "        if torch.cuda.is_available():\n",
    "            data=data.cuda()\n",
    "            target=target.cuda()\n",
    "        \n",
    "        optimizer.zero_grad()\n",
    "        output = conv_model(data)\n",
    "        loss = criterion(output, target)\n",
    "        loss.backward()\n",
    "        optimizer.step()\n",
    "\n",
    "        if (batch_idx+1)%100 == 0:\n",
    "            print('Train Epoch: {} [{}/{} ({:.0f}%)]\\tLoss: {:.6f}'.format(\n",
    "                num_epoch, (batch_idx+1)*len(data), len(train_loader.dataset),\n",
    "                100. * (batch_idx+1)/len(train_loader), loss.item())\n",
    "            )\n",
    "\n",
    "def evaluate(data_loader):\n",
    "    conv_model.eval()\n",
    "    loss = 0\n",
    "    correct = 0\n",
    "\n",
    "    for data, target in data_loader:\n",
    "        data = data.unsqueeze(1)\n",
    "        data, target = data, target\n",
    "        \n",
    "        if torch.cuda.is_available():\n",
    "            data=data.cuda()\n",
    "            target=target.cuda()\n",
    "\n",
    "        output = conv_model(data)\n",
    "        loss += F.nll_loss(output, target, size_average=False).data.item()\n",
    "\n",
    "        pred = output.data.max(1, keepdim=True)[1]\n",
    "        correct += pred.eq(target.data.view_as(pred)).cpu().sum()\n",
    "\n",
    "    loss /= len(data_loader.dataset)\n",
    "\n",
    "    print('Test set: Average loss: {:.4f}, Accuracy: {}/{} ({:.0f}%)\\n'.format(\n",
    "        loss, correct, len(data_loader.dataset),\n",
    "        100. * correct / len(data_loader.dataset)\n",
    "))"
   ]
  },
  {
   "cell_type": "code",
   "execution_count": 40,
   "metadata": {},
   "outputs": [
    {
     "name": "stdout",
     "output_type": "stream",
     "text": [
      "Train Epoch: 0 [1600/33600 (5%)]\tLoss: 0.029931\n",
      "Train Epoch: 0 [3200/33600 (10%)]\tLoss: 0.158632\n",
      "Train Epoch: 0 [4800/33600 (14%)]\tLoss: 0.029843\n",
      "Train Epoch: 0 [6400/33600 (19%)]\tLoss: 0.013549\n",
      "Train Epoch: 0 [8000/33600 (24%)]\tLoss: 0.033292\n",
      "Train Epoch: 0 [9600/33600 (29%)]\tLoss: 0.171332\n",
      "Train Epoch: 0 [11200/33600 (33%)]\tLoss: 0.020723\n",
      "Train Epoch: 0 [12800/33600 (38%)]\tLoss: 0.112330\n",
      "Train Epoch: 0 [14400/33600 (43%)]\tLoss: 0.008459\n",
      "Train Epoch: 0 [16000/33600 (48%)]\tLoss: 0.115110\n",
      "Train Epoch: 0 [17600/33600 (52%)]\tLoss: 0.129915\n",
      "Train Epoch: 0 [19200/33600 (57%)]\tLoss: 0.215343\n",
      "Train Epoch: 0 [20800/33600 (62%)]\tLoss: 0.003336\n",
      "Train Epoch: 0 [22400/33600 (67%)]\tLoss: 0.141484\n",
      "Train Epoch: 0 [24000/33600 (71%)]\tLoss: 0.032134\n",
      "Train Epoch: 0 [25600/33600 (76%)]\tLoss: 0.002617\n",
      "Train Epoch: 0 [27200/33600 (81%)]\tLoss: 0.056962\n",
      "Train Epoch: 0 [28800/33600 (86%)]\tLoss: 0.034718\n",
      "Train Epoch: 0 [30400/33600 (90%)]\tLoss: 0.007073\n",
      "Train Epoch: 0 [32000/33600 (95%)]\tLoss: 0.013726\n",
      "Train Epoch: 0 [33600/33600 (100%)]\tLoss: 0.161283\n"
     ]
    },
    {
     "name": "stderr",
     "output_type": "stream",
     "text": [
      "e:\\miniforge3\\envs\\dl\\lib\\site-packages\\torch\\nn\\_reduction.py:42: UserWarning: size_average and reduce args will be deprecated, please use reduction='sum' instead.\n",
      "  warnings.warn(warning.format(ret))\n"
     ]
    },
    {
     "name": "stdout",
     "output_type": "stream",
     "text": [
      "Test set: Average loss: -6.7866, Accuracy: 8306/8400 (99%)\n",
      "\n",
      "Train Epoch: 1 [1600/33600 (5%)]\tLoss: 0.008624\n",
      "Train Epoch: 1 [3200/33600 (10%)]\tLoss: 0.069757\n",
      "Train Epoch: 1 [4800/33600 (14%)]\tLoss: 0.007778\n",
      "Train Epoch: 1 [6400/33600 (19%)]\tLoss: 0.068741\n",
      "Train Epoch: 1 [8000/33600 (24%)]\tLoss: 0.016960\n",
      "Train Epoch: 1 [9600/33600 (29%)]\tLoss: 0.009021\n",
      "Train Epoch: 1 [11200/33600 (33%)]\tLoss: 0.033467\n",
      "Train Epoch: 1 [12800/33600 (38%)]\tLoss: 0.008608\n",
      "Train Epoch: 1 [14400/33600 (43%)]\tLoss: 0.046915\n",
      "Train Epoch: 1 [16000/33600 (48%)]\tLoss: 0.060475\n",
      "Train Epoch: 1 [17600/33600 (52%)]\tLoss: 0.716405\n",
      "Train Epoch: 1 [19200/33600 (57%)]\tLoss: 0.012520\n",
      "Train Epoch: 1 [20800/33600 (62%)]\tLoss: 0.056872\n",
      "Train Epoch: 1 [22400/33600 (67%)]\tLoss: 0.010014\n",
      "Train Epoch: 1 [24000/33600 (71%)]\tLoss: 0.046875\n",
      "Train Epoch: 1 [25600/33600 (76%)]\tLoss: 0.062222\n",
      "Train Epoch: 1 [27200/33600 (81%)]\tLoss: 0.001530\n",
      "Train Epoch: 1 [28800/33600 (86%)]\tLoss: 0.008226\n",
      "Train Epoch: 1 [30400/33600 (90%)]\tLoss: 0.013158\n",
      "Train Epoch: 1 [32000/33600 (95%)]\tLoss: 0.021853\n",
      "Train Epoch: 1 [33600/33600 (100%)]\tLoss: 0.030613\n",
      "Test set: Average loss: -7.0217, Accuracy: 8322/8400 (99%)\n",
      "\n",
      "Train Epoch: 2 [1600/33600 (5%)]\tLoss: 0.022631\n",
      "Train Epoch: 2 [3200/33600 (10%)]\tLoss: 0.010355\n",
      "Train Epoch: 2 [4800/33600 (14%)]\tLoss: 0.002741\n",
      "Train Epoch: 2 [6400/33600 (19%)]\tLoss: 0.002927\n",
      "Train Epoch: 2 [8000/33600 (24%)]\tLoss: 0.024549\n",
      "Train Epoch: 2 [9600/33600 (29%)]\tLoss: 0.004677\n",
      "Train Epoch: 2 [11200/33600 (33%)]\tLoss: 0.080366\n",
      "Train Epoch: 2 [12800/33600 (38%)]\tLoss: 0.013062\n",
      "Train Epoch: 2 [14400/33600 (43%)]\tLoss: 0.063175\n",
      "Train Epoch: 2 [16000/33600 (48%)]\tLoss: 0.042383\n",
      "Train Epoch: 2 [17600/33600 (52%)]\tLoss: 0.243526\n",
      "Train Epoch: 2 [19200/33600 (57%)]\tLoss: 0.206747\n",
      "Train Epoch: 2 [20800/33600 (62%)]\tLoss: 0.019284\n",
      "Train Epoch: 2 [22400/33600 (67%)]\tLoss: 0.082783\n",
      "Train Epoch: 2 [24000/33600 (71%)]\tLoss: 0.018061\n",
      "Train Epoch: 2 [25600/33600 (76%)]\tLoss: 0.350748\n",
      "Train Epoch: 2 [27200/33600 (81%)]\tLoss: 0.081655\n",
      "Train Epoch: 2 [28800/33600 (86%)]\tLoss: 0.007703\n",
      "Train Epoch: 2 [30400/33600 (90%)]\tLoss: 0.054197\n",
      "Train Epoch: 2 [32000/33600 (95%)]\tLoss: 0.237606\n",
      "Train Epoch: 2 [33600/33600 (100%)]\tLoss: 0.661920\n",
      "Test set: Average loss: -7.2693, Accuracy: 8338/8400 (99%)\n",
      "\n",
      "Train Epoch: 3 [1600/33600 (5%)]\tLoss: 0.015831\n",
      "Train Epoch: 3 [3200/33600 (10%)]\tLoss: 0.756320\n",
      "Train Epoch: 3 [4800/33600 (14%)]\tLoss: 0.012583\n",
      "Train Epoch: 3 [6400/33600 (19%)]\tLoss: 0.047368\n",
      "Train Epoch: 3 [8000/33600 (24%)]\tLoss: 0.005448\n",
      "Train Epoch: 3 [9600/33600 (29%)]\tLoss: 0.227291\n",
      "Train Epoch: 3 [11200/33600 (33%)]\tLoss: 0.054383\n",
      "Train Epoch: 3 [12800/33600 (38%)]\tLoss: 0.000865\n",
      "Train Epoch: 3 [14400/33600 (43%)]\tLoss: 0.017390\n",
      "Train Epoch: 3 [16000/33600 (48%)]\tLoss: 0.005464\n",
      "Train Epoch: 3 [17600/33600 (52%)]\tLoss: 0.002649\n",
      "Train Epoch: 3 [19200/33600 (57%)]\tLoss: 0.018388\n",
      "Train Epoch: 3 [20800/33600 (62%)]\tLoss: 0.026033\n",
      "Train Epoch: 3 [22400/33600 (67%)]\tLoss: 0.064696\n",
      "Train Epoch: 3 [24000/33600 (71%)]\tLoss: 0.011898\n",
      "Train Epoch: 3 [25600/33600 (76%)]\tLoss: 0.036377\n",
      "Train Epoch: 3 [27200/33600 (81%)]\tLoss: 0.018998\n",
      "Train Epoch: 3 [28800/33600 (86%)]\tLoss: 0.011784\n",
      "Train Epoch: 3 [30400/33600 (90%)]\tLoss: 0.001673\n",
      "Train Epoch: 3 [32000/33600 (95%)]\tLoss: 0.004719\n",
      "Train Epoch: 3 [33600/33600 (100%)]\tLoss: 0.039280\n",
      "Test set: Average loss: -7.5885, Accuracy: 8343/8400 (99%)\n",
      "\n",
      "Train Epoch: 4 [1600/33600 (5%)]\tLoss: 0.059946\n",
      "Train Epoch: 4 [3200/33600 (10%)]\tLoss: 0.021112\n",
      "Train Epoch: 4 [4800/33600 (14%)]\tLoss: 0.007213\n",
      "Train Epoch: 4 [6400/33600 (19%)]\tLoss: 0.049807\n",
      "Train Epoch: 4 [8000/33600 (24%)]\tLoss: 0.066177\n",
      "Train Epoch: 4 [9600/33600 (29%)]\tLoss: 0.014467\n",
      "Train Epoch: 4 [11200/33600 (33%)]\tLoss: 0.153518\n",
      "Train Epoch: 4 [12800/33600 (38%)]\tLoss: 0.004685\n",
      "Train Epoch: 4 [14400/33600 (43%)]\tLoss: 0.133975\n",
      "Train Epoch: 4 [16000/33600 (48%)]\tLoss: 0.029359\n",
      "Train Epoch: 4 [17600/33600 (52%)]\tLoss: 0.103124\n",
      "Train Epoch: 4 [19200/33600 (57%)]\tLoss: 0.005241\n",
      "Train Epoch: 4 [20800/33600 (62%)]\tLoss: 0.003029\n",
      "Train Epoch: 4 [22400/33600 (67%)]\tLoss: 0.137146\n",
      "Train Epoch: 4 [24000/33600 (71%)]\tLoss: 0.035136\n",
      "Train Epoch: 4 [25600/33600 (76%)]\tLoss: 0.011173\n",
      "Train Epoch: 4 [27200/33600 (81%)]\tLoss: 0.100418\n",
      "Train Epoch: 4 [28800/33600 (86%)]\tLoss: 0.000932\n",
      "Train Epoch: 4 [30400/33600 (90%)]\tLoss: 0.370008\n",
      "Train Epoch: 4 [32000/33600 (95%)]\tLoss: 0.001834\n",
      "Train Epoch: 4 [33600/33600 (100%)]\tLoss: 0.007761\n",
      "Test set: Average loss: -7.5788, Accuracy: 8338/8400 (99%)\n",
      "\n",
      "Train Epoch: 5 [1600/33600 (5%)]\tLoss: 0.050933\n",
      "Train Epoch: 5 [3200/33600 (10%)]\tLoss: 0.017429\n",
      "Train Epoch: 5 [4800/33600 (14%)]\tLoss: 0.039100\n",
      "Train Epoch: 5 [6400/33600 (19%)]\tLoss: 0.278169\n",
      "Train Epoch: 5 [8000/33600 (24%)]\tLoss: 0.028356\n",
      "Train Epoch: 5 [9600/33600 (29%)]\tLoss: 0.006669\n",
      "Train Epoch: 5 [11200/33600 (33%)]\tLoss: 0.004632\n",
      "Train Epoch: 5 [12800/33600 (38%)]\tLoss: 0.235462\n",
      "Train Epoch: 5 [14400/33600 (43%)]\tLoss: 0.009204\n",
      "Train Epoch: 5 [16000/33600 (48%)]\tLoss: 0.005187\n",
      "Train Epoch: 5 [17600/33600 (52%)]\tLoss: 0.059552\n",
      "Train Epoch: 5 [19200/33600 (57%)]\tLoss: 0.008939\n",
      "Train Epoch: 5 [20800/33600 (62%)]\tLoss: 0.058512\n",
      "Train Epoch: 5 [22400/33600 (67%)]\tLoss: 0.147178\n",
      "Train Epoch: 5 [24000/33600 (71%)]\tLoss: 0.034920\n",
      "Train Epoch: 5 [25600/33600 (76%)]\tLoss: 0.000708\n",
      "Train Epoch: 5 [27200/33600 (81%)]\tLoss: 0.032752\n",
      "Train Epoch: 5 [28800/33600 (86%)]\tLoss: 0.034870\n",
      "Train Epoch: 5 [30400/33600 (90%)]\tLoss: 0.325614\n",
      "Train Epoch: 5 [32000/33600 (95%)]\tLoss: 0.001977\n",
      "Train Epoch: 5 [33600/33600 (100%)]\tLoss: 0.001463\n",
      "Test set: Average loss: -7.8827, Accuracy: 8351/8400 (99%)\n",
      "\n",
      "Train Epoch: 6 [1600/33600 (5%)]\tLoss: 0.299074\n",
      "Train Epoch: 6 [3200/33600 (10%)]\tLoss: 0.235158\n",
      "Train Epoch: 6 [4800/33600 (14%)]\tLoss: 0.206315\n",
      "Train Epoch: 6 [6400/33600 (19%)]\tLoss: 0.035213\n",
      "Train Epoch: 6 [8000/33600 (24%)]\tLoss: 0.025686\n",
      "Train Epoch: 6 [9600/33600 (29%)]\tLoss: 0.291699\n",
      "Train Epoch: 6 [11200/33600 (33%)]\tLoss: 0.003733\n",
      "Train Epoch: 6 [12800/33600 (38%)]\tLoss: 0.001646\n",
      "Train Epoch: 6 [14400/33600 (43%)]\tLoss: 0.011759\n",
      "Train Epoch: 6 [16000/33600 (48%)]\tLoss: 0.002750\n",
      "Train Epoch: 6 [17600/33600 (52%)]\tLoss: 0.003269\n",
      "Train Epoch: 6 [19200/33600 (57%)]\tLoss: 0.014092\n",
      "Train Epoch: 6 [20800/33600 (62%)]\tLoss: 0.052697\n",
      "Train Epoch: 6 [22400/33600 (67%)]\tLoss: 0.102528\n",
      "Train Epoch: 6 [24000/33600 (71%)]\tLoss: 0.026724\n",
      "Train Epoch: 6 [25600/33600 (76%)]\tLoss: 0.004860\n",
      "Train Epoch: 6 [27200/33600 (81%)]\tLoss: 0.161785\n",
      "Train Epoch: 6 [28800/33600 (86%)]\tLoss: 0.002988\n",
      "Train Epoch: 6 [30400/33600 (90%)]\tLoss: 0.027353\n",
      "Train Epoch: 6 [32000/33600 (95%)]\tLoss: 0.001593\n",
      "Train Epoch: 6 [33600/33600 (100%)]\tLoss: 0.010646\n",
      "Test set: Average loss: -7.8516, Accuracy: 8349/8400 (99%)\n",
      "\n",
      "Train Epoch: 7 [1600/33600 (5%)]\tLoss: 0.002968\n",
      "Train Epoch: 7 [3200/33600 (10%)]\tLoss: 0.232135\n",
      "Train Epoch: 7 [4800/33600 (14%)]\tLoss: 0.002985\n",
      "Train Epoch: 7 [6400/33600 (19%)]\tLoss: 0.000212\n",
      "Train Epoch: 7 [8000/33600 (24%)]\tLoss: 0.014296\n",
      "Train Epoch: 7 [9600/33600 (29%)]\tLoss: 0.007693\n",
      "Train Epoch: 7 [11200/33600 (33%)]\tLoss: 0.051087\n",
      "Train Epoch: 7 [12800/33600 (38%)]\tLoss: 0.002376\n",
      "Train Epoch: 7 [14400/33600 (43%)]\tLoss: 0.004930\n",
      "Train Epoch: 7 [16000/33600 (48%)]\tLoss: 0.024588\n",
      "Train Epoch: 7 [17600/33600 (52%)]\tLoss: 0.111830\n",
      "Train Epoch: 7 [19200/33600 (57%)]\tLoss: 0.211471\n",
      "Train Epoch: 7 [20800/33600 (62%)]\tLoss: 0.144736\n",
      "Train Epoch: 7 [22400/33600 (67%)]\tLoss: 0.007300\n",
      "Train Epoch: 7 [24000/33600 (71%)]\tLoss: 0.009473\n",
      "Train Epoch: 7 [25600/33600 (76%)]\tLoss: 0.001145\n",
      "Train Epoch: 7 [27200/33600 (81%)]\tLoss: 0.008511\n",
      "Train Epoch: 7 [28800/33600 (86%)]\tLoss: 0.041094\n",
      "Train Epoch: 7 [30400/33600 (90%)]\tLoss: 0.064407\n",
      "Train Epoch: 7 [32000/33600 (95%)]\tLoss: 0.019883\n",
      "Train Epoch: 7 [33600/33600 (100%)]\tLoss: 0.105697\n",
      "Test set: Average loss: -8.0034, Accuracy: 8344/8400 (99%)\n",
      "\n",
      "Train Epoch: 8 [1600/33600 (5%)]\tLoss: 0.033155\n",
      "Train Epoch: 8 [3200/33600 (10%)]\tLoss: 0.088249\n",
      "Train Epoch: 8 [4800/33600 (14%)]\tLoss: 0.020880\n",
      "Train Epoch: 8 [6400/33600 (19%)]\tLoss: 0.041443\n",
      "Train Epoch: 8 [8000/33600 (24%)]\tLoss: 0.224866\n",
      "Train Epoch: 8 [9600/33600 (29%)]\tLoss: 0.101391\n",
      "Train Epoch: 8 [11200/33600 (33%)]\tLoss: 0.121892\n",
      "Train Epoch: 8 [12800/33600 (38%)]\tLoss: 0.527331\n",
      "Train Epoch: 8 [14400/33600 (43%)]\tLoss: 0.033860\n",
      "Train Epoch: 8 [16000/33600 (48%)]\tLoss: 0.018344\n",
      "Train Epoch: 8 [17600/33600 (52%)]\tLoss: 0.000939\n",
      "Train Epoch: 8 [19200/33600 (57%)]\tLoss: 0.004687\n",
      "Train Epoch: 8 [20800/33600 (62%)]\tLoss: 0.002062\n",
      "Train Epoch: 8 [22400/33600 (67%)]\tLoss: 0.001619\n",
      "Train Epoch: 8 [24000/33600 (71%)]\tLoss: 0.054000\n",
      "Train Epoch: 8 [25600/33600 (76%)]\tLoss: 0.012311\n",
      "Train Epoch: 8 [27200/33600 (81%)]\tLoss: 0.068895\n",
      "Train Epoch: 8 [28800/33600 (86%)]\tLoss: 0.013477\n",
      "Train Epoch: 8 [30400/33600 (90%)]\tLoss: 0.004990\n",
      "Train Epoch: 8 [32000/33600 (95%)]\tLoss: 0.010382\n",
      "Train Epoch: 8 [33600/33600 (100%)]\tLoss: 0.033121\n",
      "Test set: Average loss: -7.8998, Accuracy: 8349/8400 (99%)\n",
      "\n",
      "Train Epoch: 9 [1600/33600 (5%)]\tLoss: 0.012943\n",
      "Train Epoch: 9 [3200/33600 (10%)]\tLoss: 0.132793\n",
      "Train Epoch: 9 [4800/33600 (14%)]\tLoss: 0.020884\n",
      "Train Epoch: 9 [6400/33600 (19%)]\tLoss: 0.003017\n",
      "Train Epoch: 9 [8000/33600 (24%)]\tLoss: 0.001088\n",
      "Train Epoch: 9 [9600/33600 (29%)]\tLoss: 0.006638\n",
      "Train Epoch: 9 [11200/33600 (33%)]\tLoss: 0.002201\n",
      "Train Epoch: 9 [12800/33600 (38%)]\tLoss: 0.026530\n",
      "Train Epoch: 9 [14400/33600 (43%)]\tLoss: 0.010905\n",
      "Train Epoch: 9 [16000/33600 (48%)]\tLoss: 0.025936\n",
      "Train Epoch: 9 [17600/33600 (52%)]\tLoss: 0.008228\n",
      "Train Epoch: 9 [19200/33600 (57%)]\tLoss: 0.087487\n",
      "Train Epoch: 9 [20800/33600 (62%)]\tLoss: 0.206656\n",
      "Train Epoch: 9 [22400/33600 (67%)]\tLoss: 0.004123\n",
      "Train Epoch: 9 [24000/33600 (71%)]\tLoss: 0.000854\n",
      "Train Epoch: 9 [25600/33600 (76%)]\tLoss: 0.003507\n",
      "Train Epoch: 9 [27200/33600 (81%)]\tLoss: 0.008238\n",
      "Train Epoch: 9 [28800/33600 (86%)]\tLoss: 0.012497\n",
      "Train Epoch: 9 [30400/33600 (90%)]\tLoss: 0.000392\n",
      "Train Epoch: 9 [32000/33600 (95%)]\tLoss: 0.080156\n",
      "Train Epoch: 9 [33600/33600 (100%)]\tLoss: 0.059825\n",
      "Test set: Average loss: -8.0658, Accuracy: 8346/8400 (99%)\n",
      "\n"
     ]
    }
   ],
   "source": [
    "num_epochs = 10\n",
    "\n",
    "for n in range(num_epochs):\n",
    "    train_model(n)\n",
    "    evaluate(val_loader)"
   ]
  },
  {
   "cell_type": "code",
   "execution_count": 41,
   "metadata": {},
   "outputs": [],
   "source": [
    "def predictions(data_loader):\n",
    "    conv_model.eval()\n",
    "    test_preds = torch.LongTensor()\n",
    "\n",
    "    for i ,data in enumerate(data_loader):\n",
    "        data = data.unsqueeze(1)\n",
    "\n",
    "        if torch.cuda.is_available():\n",
    "            data = data.cuda()\n",
    "        \n",
    "        output = conv_model(data)\n",
    "        preds = output.cpu().data.max(1, keepdim=True)[1]\n",
    "        test_preds = torch.cat((test_preds, preds), dim=0)\n",
    "    return test_preds"
   ]
  },
  {
   "cell_type": "code",
   "execution_count": 46,
   "metadata": {},
   "outputs": [],
   "source": [
    "test_set_preds = predictions(test_loader)"
   ]
  },
  {
   "cell_type": "code",
   "execution_count": 49,
   "metadata": {},
   "outputs": [
    {
     "data": {
      "text/html": [
       "<div>\n",
       "<style scoped>\n",
       "    .dataframe tbody tr th:only-of-type {\n",
       "        vertical-align: middle;\n",
       "    }\n",
       "\n",
       "    .dataframe tbody tr th {\n",
       "        vertical-align: top;\n",
       "    }\n",
       "\n",
       "    .dataframe thead th {\n",
       "        text-align: right;\n",
       "    }\n",
       "</style>\n",
       "<table border=\"1\" class=\"dataframe\">\n",
       "  <thead>\n",
       "    <tr style=\"text-align: right;\">\n",
       "      <th></th>\n",
       "      <th>ImageId</th>\n",
       "      <th>Label</th>\n",
       "    </tr>\n",
       "  </thead>\n",
       "  <tbody>\n",
       "    <tr>\n",
       "      <th>0</th>\n",
       "      <td>1</td>\n",
       "      <td>5</td>\n",
       "    </tr>\n",
       "    <tr>\n",
       "      <th>1</th>\n",
       "      <td>2</td>\n",
       "      <td>6</td>\n",
       "    </tr>\n",
       "    <tr>\n",
       "      <th>2</th>\n",
       "      <td>3</td>\n",
       "      <td>3</td>\n",
       "    </tr>\n",
       "    <tr>\n",
       "      <th>3</th>\n",
       "      <td>4</td>\n",
       "      <td>9</td>\n",
       "    </tr>\n",
       "    <tr>\n",
       "      <th>4</th>\n",
       "      <td>5</td>\n",
       "      <td>1</td>\n",
       "    </tr>\n",
       "  </tbody>\n",
       "</table>\n",
       "</div>"
      ],
      "text/plain": [
       "   ImageId  Label\n",
       "0        1      5\n",
       "1        2      6\n",
       "2        3      3\n",
       "3        4      9\n",
       "4        5      1"
      ]
     },
     "execution_count": 49,
     "metadata": {},
     "output_type": "execute_result"
    }
   ],
   "source": [
    "submission_df = pd.read_csv('digit-recognizer/sample_submission.csv')\n",
    "submission_df['Label'] = test_set_preds.numpy().squeeze()\n",
    "submission_df.head()"
   ]
  },
  {
   "cell_type": "code",
   "execution_count": 50,
   "metadata": {},
   "outputs": [],
   "source": [
    "submission_df.to_csv('submission.csv', index=False)"
   ]
  },
  {
   "cell_type": "code",
   "execution_count": null,
   "metadata": {},
   "outputs": [],
   "source": []
  }
 ],
 "metadata": {
  "kernelspec": {
   "display_name": "ml",
   "language": "python",
   "name": "python3"
  },
  "language_info": {
   "codemirror_mode": {
    "name": "ipython",
    "version": 3
   },
   "file_extension": ".py",
   "mimetype": "text/x-python",
   "name": "python",
   "nbconvert_exporter": "python",
   "pygments_lexer": "ipython3",
   "version": "3.10.18"
  }
 },
 "nbformat": 4,
 "nbformat_minor": 2
}
